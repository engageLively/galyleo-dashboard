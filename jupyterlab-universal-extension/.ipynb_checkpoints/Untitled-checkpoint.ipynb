{
 "cells": [
  {
   "cell_type": "code",
   "execution_count": 1,
   "id": "obvious-tender",
   "metadata": {},
   "outputs": [],
   "source": [
    "from ipykernel.comm import Comm"
   ]
  },
  {
   "cell_type": "code",
   "execution_count": 3,
   "id": "promising-tract",
   "metadata": {},
   "outputs": [],
   "source": [
    "my_comm = Comm(target_name='galyleo_data', data={'foo': 1})\n"
   ]
  },
  {
   "cell_type": "code",
   "execution_count": null,
   "id": "active-champion",
   "metadata": {},
   "outputs": [],
   "source": [
    "my_comm.send({'foo': 2})"
   ]
  }
 ],
 "metadata": {
  "kernelspec": {
   "display_name": "Python 3",
   "language": "python",
   "name": "python3"
  },
  "language_info": {
   "codemirror_mode": {
    "name": "ipython",
    "version": 3
   },
   "file_extension": ".py",
   "mimetype": "text/x-python",
   "name": "python",
   "nbconvert_exporter": "python",
   "pygments_lexer": "ipython3",
   "version": "3.9.2"
  }
 },
 "nbformat": 4,
 "nbformat_minor": 5
}
