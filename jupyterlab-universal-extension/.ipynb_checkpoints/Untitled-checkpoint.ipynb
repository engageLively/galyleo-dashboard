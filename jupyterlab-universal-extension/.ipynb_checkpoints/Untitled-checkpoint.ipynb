{
 "cells": [
  {
   "cell_type": "code",
   "execution_count": 1,
   "id": "liberal-tuning",
   "metadata": {},
   "outputs": [
    {
     "data": {
      "text/plain": [
       "{'TERM_PROGRAM': 'Apple_Terminal',\n",
       " 'SHELL': '/bin/bash',\n",
       " 'TERM': 'xterm-color',\n",
       " 'TMPDIR': '/var/folders/jh/2mpf2n5543zdvy6sqgwjlfrh0000gn/T/',\n",
       " 'CONDA_SHLVL': '2',\n",
       " 'CONDA_PROMPT_MODIFIER': '(jupyterlab-ext-3) ',\n",
       " 'TERM_PROGRAM_VERSION': '433',\n",
       " 'OLDPWD': '/Users/rick/Projects/engageLively/el-dashboard',\n",
       " 'TERM_SESSION_ID': 'B6E4C48A-B35B-495A-B202-1E4773F414B1',\n",
       " 'USER': 'rick',\n",
       " 'CONDA_EXE': '/Users/rick/opt/miniconda3/bin/conda',\n",
       " 'SSH_AUTH_SOCK': '/private/tmp/com.apple.launchd.plbu5oCfAp/Listeners',\n",
       " '_CE_CONDA': '',\n",
       " 'CONDA_PREFIX_1': '/Users/rick/opt/miniconda3',\n",
       " 'PATH': '/Users/rick/google-cloud-sdk/bin:/Users/rick/opt/miniconda3/envs/jupyterlab-ext-3/bin:/Users/rick/opt/miniconda3/condabin:/usr/local/bin:/usr/local/sbin:/usr/bin:/bin:/usr/sbin:/sbin:/usr/local/bin:/opt/PalmPDK/bin:/Library/TeX/texbin:/opt/PalmSDK/0.1/bin:/usr/local/git/bin:/Users/rick/Library/Python/3.7/bin',\n",
       " 'LaunchInstanceID': '61CDB2D4-3C3E-4F3A-A17F-9A399B9AEAD8',\n",
       " 'CONDA_PREFIX': '/Users/rick/opt/miniconda3/envs/jupyterlab-ext-3',\n",
       " 'PWD': '/Users/rick/Projects/engageLively/el-dashboard/jupyterlab-universal-extension',\n",
       " 'LANG': 'en_US.UTF-8',\n",
       " 'XPC_FLAGS': '0x0',\n",
       " '_CE_M': '',\n",
       " 'XPC_SERVICE_NAME': '0',\n",
       " 'SHLVL': '1',\n",
       " 'HOME': '/Users/rick',\n",
       " 'CONDA_PYTHON_EXE': '/Users/rick/opt/miniconda3/bin/python',\n",
       " 'LOGNAME': 'rick',\n",
       " 'CONDA_DEFAULT_ENV': 'jupyterlab-ext-3',\n",
       " 'SECURITYSESSIONID': '186a6',\n",
       " '_': '/Users/rick/opt/miniconda3/envs/jupyterlab-ext-3/bin/jupyter',\n",
       " '__CF_USER_TEXT_ENCODING': '0x1F5:0x0:0x0',\n",
       " 'JPY_PARENT_PID': '68477',\n",
       " 'CLICOLOR': '1',\n",
       " 'PAGER': 'cat',\n",
       " 'GIT_PAGER': 'cat',\n",
       " 'MPLBACKEND': 'module://ipykernel.pylab.backend_inline',\n",
       " 'DASHBOARD_ROOM': '17823444-27c0-4000-8ee3-55570ebf8a00'}"
      ]
     },
     "execution_count": 1,
     "metadata": {},
     "output_type": "execute_result"
    }
   ],
   "source": [
    "%env"
   ]
  },
  {
   "cell_type": "code",
   "execution_count": null,
   "id": "amended-following",
   "metadata": {},
   "outputs": [],
   "source": []
  }
 ],
 "metadata": {
  "kernelspec": {
   "display_name": "Python 3",
   "language": "python",
   "name": "python3"
  },
  "language_info": {
   "codemirror_mode": {
    "name": "ipython",
    "version": 3
   },
   "file_extension": ".py",
   "mimetype": "text/x-python",
   "name": "python",
   "nbconvert_exporter": "python",
   "pygments_lexer": "ipython3",
   "version": "3.9.2"
  }
 },
 "nbformat": 4,
 "nbformat_minor": 5
}
