{
 "cells": [
  {
   "cell_type": "code",
   "execution_count": 8,
   "id": "infinite-coordinator",
   "metadata": {},
   "outputs": [
    {
     "ename": "ModuleNotFoundError",
     "evalue": "No module named 'dashboard_client'",
     "output_type": "error",
     "traceback": [
      "\u001b[0;31m---------------------------------------------------------------------------\u001b[0m",
      "\u001b[0;31mModuleNotFoundError\u001b[0m                       Traceback (most recent call last)",
      "\u001b[0;32m<ipython-input-8-e135854e5c84>\u001b[0m in \u001b[0;36m<module>\u001b[0;34m\u001b[0m\n\u001b[0;32m----> 1\u001b[0;31m \u001b[0;32mfrom\u001b[0m \u001b[0mdashboard_client\u001b[0m \u001b[0;32mimport\u001b[0m \u001b[0mDashboardClient\u001b[0m\u001b[0;34m\u001b[0m\u001b[0;34m\u001b[0m\u001b[0m\n\u001b[0m",
      "\u001b[0;31mModuleNotFoundError\u001b[0m: No module named 'dashboard_client'"
     ]
    }
   ],
   "source": [
    "from dashboard_client import DashboardClient"
   ]
  },
  {
   "cell_type": "code",
   "execution_count": 9,
   "id": "unable-capacity",
   "metadata": {},
   "outputs": [
    {
     "data": {
      "text/plain": [
       "'1783beaf-8430-4000-8f60-c2a530f8a700'"
      ]
     },
     "execution_count": 9,
     "metadata": {},
     "output_type": "execute_result"
    }
   ],
   "source": [
    "%env DASHBOARD_ROOM"
   ]
  },
  {
   "cell_type": "code",
   "execution_count": null,
   "id": "neural-thread",
   "metadata": {},
   "outputs": [],
   "source": []
  }
 ],
 "metadata": {
  "kernelspec": {
   "display_name": "Python 3",
   "language": "python",
   "name": "python3"
  },
  "language_info": {
   "codemirror_mode": {
    "name": "ipython",
    "version": 3
   },
   "file_extension": ".py",
   "mimetype": "text/x-python",
   "name": "python",
   "nbconvert_exporter": "python",
   "pygments_lexer": "ipython3",
   "version": "3.9.2"
  }
 },
 "nbformat": 4,
 "nbformat_minor": 5
}
